{
 "cells": [
  {
   "cell_type": "code",
   "execution_count": 1,
   "id": "d321e4ce-f4a0-48e2-a073-2bad331ada1b",
   "metadata": {},
   "outputs": [],
   "source": [
    "#we can write comments like this "
   ]
  },
  {
   "cell_type": "code",
   "execution_count": 2,
   "id": "14af7064-9ba4-43c0-8b27-c70101cd8963",
   "metadata": {},
   "outputs": [],
   "source": [
    "# this is called singleline comment"
   ]
  },
  {
   "cell_type": "code",
   "execution_count": 3,
   "id": "78cb0097-349c-4126-bc4b-8726fe8e67b0",
   "metadata": {},
   "outputs": [
    {
     "data": {
      "text/plain": [
       "' this is called multiline\\ncomment and we can define everything about over code \\nin deep '"
      ]
     },
     "execution_count": 3,
     "metadata": {},
     "output_type": "execute_result"
    }
   ],
   "source": [
    "\"\"\" this is called multiline\n",
    "comment and we can define everything about over code \n",
    "in deep \"\"\""
   ]
  },
  {
   "cell_type": "code",
   "execution_count": null,
   "id": "6720791c-8a81-49b3-8240-0209b6d908cb",
   "metadata": {},
   "outputs": [],
   "source": []
  },
  {
   "cell_type": "code",
   "execution_count": 6,
   "id": "c404f8e1-bf39-4b72-aa12-ab24481db5b1",
   "metadata": {},
   "outputs": [],
   "source": [
    "# types of variable are int , float , boolean , str , dictionary , set , tuple , list and none "
   ]
  },
  {
   "cell_type": "code",
   "execution_count": 10,
   "id": "e7f8812a-5742-4f49-9621-d63d9ae1c22d",
   "metadata": {},
   "outputs": [],
   "source": [
    " a = 10"
   ]
  },
  {
   "cell_type": "code",
   "execution_count": 11,
   "id": "ce26b2bf-c5b9-445c-ace4-7d44c08de522",
   "metadata": {},
   "outputs": [
    {
     "data": {
      "text/plain": [
       "10"
      ]
     },
     "execution_count": 11,
     "metadata": {},
     "output_type": "execute_result"
    }
   ],
   "source": [
    "a"
   ]
  },
  {
   "cell_type": "code",
   "execution_count": 12,
   "id": "e1e7b1b4-bfea-4a27-a1ce-dece779a7f41",
   "metadata": {},
   "outputs": [],
   "source": [
    "b = 30.5"
   ]
  },
  {
   "cell_type": "code",
   "execution_count": 13,
   "id": "35a5cca2-f569-4cbd-ab21-7138c4396a48",
   "metadata": {},
   "outputs": [
    {
     "data": {
      "text/plain": [
       "30.5"
      ]
     },
     "execution_count": 13,
     "metadata": {},
     "output_type": "execute_result"
    }
   ],
   "source": [
    "b"
   ]
  },
  {
   "cell_type": "code",
   "execution_count": 14,
   "id": "9f3e1df3-0c70-4cfb-b35f-dabd58e469b7",
   "metadata": {},
   "outputs": [],
   "source": [
    "c = True"
   ]
  },
  {
   "cell_type": "code",
   "execution_count": 15,
   "id": "fae5994d-8b8f-45bb-85f3-23d03dfe3e60",
   "metadata": {},
   "outputs": [
    {
     "data": {
      "text/plain": [
       "True"
      ]
     },
     "execution_count": 15,
     "metadata": {},
     "output_type": "execute_result"
    }
   ],
   "source": [
    "c"
   ]
  },
  {
   "cell_type": "code",
   "execution_count": 16,
   "id": "2c6d2e8b-a633-4421-be7a-739021f42556",
   "metadata": {},
   "outputs": [],
   "source": [
    "d = False"
   ]
  },
  {
   "cell_type": "code",
   "execution_count": 17,
   "id": "72609c6b-036f-4e88-a73a-06364b0299dc",
   "metadata": {},
   "outputs": [
    {
     "data": {
      "text/plain": [
       "False"
      ]
     },
     "execution_count": 17,
     "metadata": {},
     "output_type": "execute_result"
    }
   ],
   "source": [
    "d"
   ]
  },
  {
   "cell_type": "code",
   "execution_count": 18,
   "id": "baa1581b-ba48-4531-b77b-78213339fe99",
   "metadata": {},
   "outputs": [],
   "source": [
    "d = \"Harsh\""
   ]
  },
  {
   "cell_type": "code",
   "execution_count": 23,
   "id": "53b174c2-b396-4db5-83d3-bba76e8e8a4f",
   "metadata": {},
   "outputs": [
    {
     "data": {
      "text/plain": [
       "'Harsh'"
      ]
     },
     "execution_count": 23,
     "metadata": {},
     "output_type": "execute_result"
    }
   ],
   "source": [
    "d"
   ]
  },
  {
   "cell_type": "code",
   "execution_count": 20,
   "id": "083756b4-3c24-452f-85fe-0a17814f197c",
   "metadata": {},
   "outputs": [],
   "source": [
    "a = [\"harsh\", 67, 89.45]"
   ]
  },
  {
   "cell_type": "code",
   "execution_count": 21,
   "id": "5b23beab-3529-4e1a-979f-b076ba86acfd",
   "metadata": {},
   "outputs": [
    {
     "data": {
      "text/plain": [
       "['harsh', 67, 89.45]"
      ]
     },
     "execution_count": 21,
     "metadata": {},
     "output_type": "execute_result"
    }
   ],
   "source": [
    "a"
   ]
  },
  {
   "cell_type": "code",
   "execution_count": 22,
   "id": "57013196-db9e-4787-abff-003182d6acad",
   "metadata": {},
   "outputs": [
    {
     "data": {
      "text/plain": [
       "list"
      ]
     },
     "execution_count": 22,
     "metadata": {},
     "output_type": "execute_result"
    }
   ],
   "source": [
    "type(a)"
   ]
  },
  {
   "cell_type": "code",
   "execution_count": 24,
   "id": "e4690a3a-84fe-4757-a551-5d72481dee95",
   "metadata": {},
   "outputs": [],
   "source": [
    "b = (23,\"new\",45.80)"
   ]
  },
  {
   "cell_type": "code",
   "execution_count": 25,
   "id": "809cb6d6-c02b-4566-9bf7-9ea23a412fb3",
   "metadata": {},
   "outputs": [
    {
     "data": {
      "text/plain": [
       "(23, 'new', 45.8)"
      ]
     },
     "execution_count": 25,
     "metadata": {},
     "output_type": "execute_result"
    }
   ],
   "source": [
    "b"
   ]
  },
  {
   "cell_type": "code",
   "execution_count": 26,
   "id": "8ec9c550-bca6-4e5c-aebf-651bcaed4ff0",
   "metadata": {},
   "outputs": [
    {
     "data": {
      "text/plain": [
       "tuple"
      ]
     },
     "execution_count": 26,
     "metadata": {},
     "output_type": "execute_result"
    }
   ],
   "source": [
    "type(b)"
   ]
  },
  {
   "cell_type": "code",
   "execution_count": 27,
   "id": "e74f98f7-5d10-4db8-af96-a4a2e8192d9e",
   "metadata": {},
   "outputs": [],
   "source": [
    "c={\"harsh\", 78 , 990.90}"
   ]
  },
  {
   "cell_type": "code",
   "execution_count": 28,
   "id": "ef282a0b-1f9b-4642-b420-2220610d316d",
   "metadata": {},
   "outputs": [
    {
     "data": {
      "text/plain": [
       "{78, 990.9, 'harsh'}"
      ]
     },
     "execution_count": 28,
     "metadata": {},
     "output_type": "execute_result"
    }
   ],
   "source": [
    "c"
   ]
  },
  {
   "cell_type": "code",
   "execution_count": 29,
   "id": "83d5015a-c773-4ffa-a429-31ca95b66b5e",
   "metadata": {},
   "outputs": [
    {
     "data": {
      "text/plain": [
       "set"
      ]
     },
     "execution_count": 29,
     "metadata": {},
     "output_type": "execute_result"
    }
   ],
   "source": [
    "type(c)"
   ]
  },
  {
   "cell_type": "code",
   "execution_count": 39,
   "id": "3d39a904-d593-4558-a82f-e02af52efe3e",
   "metadata": {},
   "outputs": [],
   "source": [
    "person = {\"name\": \"Harsh\", \"age\": 20, \"occupation\": \"engineer\"}\n"
   ]
  },
  {
   "cell_type": "code",
   "execution_count": 37,
   "id": "3c0a8cd7-d2b3-4a53-a435-d14c73146cf9",
   "metadata": {},
   "outputs": [
    {
     "data": {
      "text/plain": [
       "{'name': 'Alice', 'age': 30, 'occupation': 'engineer'}"
      ]
     },
     "execution_count": 37,
     "metadata": {},
     "output_type": "execute_result"
    }
   ],
   "source": [
    "person"
   ]
  },
  {
   "cell_type": "code",
   "execution_count": 38,
   "id": "a7267db8-32b2-4b7d-9af2-a85fce4bbf17",
   "metadata": {},
   "outputs": [
    {
     "data": {
      "text/plain": [
       "dict"
      ]
     },
     "execution_count": 38,
     "metadata": {},
     "output_type": "execute_result"
    }
   ],
   "source": [
    "type(person)"
   ]
  },
  {
   "cell_type": "code",
   "execution_count": 40,
   "id": "dc324891-c40d-43bf-9fcb-c6e64a59f577",
   "metadata": {},
   "outputs": [],
   "source": [
    "# conversion from one to another data type"
   ]
  },
  {
   "cell_type": "code",
   "execution_count": 7,
   "id": "fe48f31b-72fb-456e-9f59-efbde4251f8a",
   "metadata": {},
   "outputs": [],
   "source": [
    "c = 78"
   ]
  },
  {
   "cell_type": "code",
   "execution_count": 8,
   "id": "c6638cec-14cb-4400-bc57-3786a3f1b5aa",
   "metadata": {},
   "outputs": [
    {
     "data": {
      "text/plain": [
       "int"
      ]
     },
     "execution_count": 8,
     "metadata": {},
     "output_type": "execute_result"
    }
   ],
   "source": [
    "type(c)"
   ]
  },
  {
   "cell_type": "code",
   "execution_count": 9,
   "id": "a713639a-d739-4446-9ff1-d1cb374f2dc5",
   "metadata": {},
   "outputs": [
    {
     "data": {
      "text/plain": [
       "78.0"
      ]
     },
     "execution_count": 9,
     "metadata": {},
     "output_type": "execute_result"
    }
   ],
   "source": [
    "float(c)"
   ]
  },
  {
   "cell_type": "code",
   "execution_count": null,
   "id": "b91d9fb5-43c7-4e36-817b-4c585054cf96",
   "metadata": {},
   "outputs": [],
   "source": []
  },
  {
   "cell_type": "code",
   "execution_count": 10,
   "id": "418d6e80-ea74-41e8-ba80-41b5473a2266",
   "metadata": {},
   "outputs": [
    {
     "data": {
      "text/plain": [
       "True"
      ]
     },
     "execution_count": 10,
     "metadata": {},
     "output_type": "execute_result"
    }
   ],
   "source": [
    "bool(c)"
   ]
  },
  {
   "cell_type": "code",
   "execution_count": null,
   "id": "d5a33bc5-0c12-4d50-89a5-d57a8108fe22",
   "metadata": {},
   "outputs": [],
   "source": []
  },
  {
   "cell_type": "code",
   "execution_count": 11,
   "id": "e3aa2b5d-b09e-4d03-9a45-2bc62b99c8c2",
   "metadata": {},
   "outputs": [
    {
     "data": {
      "text/plain": [
       "'78'"
      ]
     },
     "execution_count": 11,
     "metadata": {},
     "output_type": "execute_result"
    }
   ],
   "source": [
    "str(c)"
   ]
  },
  {
   "cell_type": "code",
   "execution_count": 16,
   "id": "91112d66-7c93-4371-8ea1-188298348b92",
   "metadata": {},
   "outputs": [],
   "source": [
    "a = {c:\"harsh\" , \"b\" : 45}"
   ]
  },
  {
   "cell_type": "code",
   "execution_count": 17,
   "id": "7ef77cd1-3665-4fe1-8ece-6c23f252165e",
   "metadata": {},
   "outputs": [
    {
     "data": {
      "text/plain": [
       "{78: 'harsh', 'b': 45}"
      ]
     },
     "execution_count": 17,
     "metadata": {},
     "output_type": "execute_result"
    }
   ],
   "source": [
    "a"
   ]
  },
  {
   "cell_type": "code",
   "execution_count": 18,
   "id": "27db53ff-300b-4a45-bc02-ca9781cc82b4",
   "metadata": {},
   "outputs": [
    {
     "data": {
      "text/plain": [
       "dict"
      ]
     },
     "execution_count": 18,
     "metadata": {},
     "output_type": "execute_result"
    }
   ],
   "source": [
    "type(a)"
   ]
  },
  {
   "cell_type": "code",
   "execution_count": 19,
   "id": "14a23af8-550d-4e6d-aec8-88c680493abe",
   "metadata": {},
   "outputs": [],
   "source": [
    "b = [\"Harsh\",78,89.90]"
   ]
  },
  {
   "cell_type": "code",
   "execution_count": 20,
   "id": "abb8cb22-0725-4331-a5c1-be0490b6674b",
   "metadata": {},
   "outputs": [
    {
     "data": {
      "text/plain": [
       "['Harsh', 78, 89.9]"
      ]
     },
     "execution_count": 20,
     "metadata": {},
     "output_type": "execute_result"
    }
   ],
   "source": [
    "b"
   ]
  },
  {
   "cell_type": "code",
   "execution_count": 21,
   "id": "9ff947b5-d45f-44f2-bd6c-fb7d7c340749",
   "metadata": {},
   "outputs": [
    {
     "data": {
      "text/plain": [
       "list"
      ]
     },
     "execution_count": 21,
     "metadata": {},
     "output_type": "execute_result"
    }
   ],
   "source": [
    "type(b)"
   ]
  },
  {
   "cell_type": "code",
   "execution_count": null,
   "id": "b7eab272-3178-4c26-8356-4e6b1c6cc29d",
   "metadata": {},
   "outputs": [],
   "source": []
  },
  {
   "cell_type": "code",
   "execution_count": 22,
   "id": "6771ee33-c661-4383-9306-f46a9396cef9",
   "metadata": {},
   "outputs": [],
   "source": [
    "c = (56,\"harsh\",67.79)"
   ]
  },
  {
   "cell_type": "code",
   "execution_count": 23,
   "id": "b34e7914-2efd-497f-826e-0e60653e0c68",
   "metadata": {},
   "outputs": [
    {
     "data": {
      "text/plain": [
       "tuple"
      ]
     },
     "execution_count": 23,
     "metadata": {},
     "output_type": "execute_result"
    }
   ],
   "source": [
    "type(c)"
   ]
  },
  {
   "cell_type": "code",
   "execution_count": null,
   "id": "ba46c99f-7f07-429c-a27c-10e00f5d5048",
   "metadata": {},
   "outputs": [],
   "source": []
  },
  {
   "cell_type": "code",
   "execution_count": 24,
   "id": "e59c81ff-9d5c-4925-a565-360f3f03e57a",
   "metadata": {},
   "outputs": [],
   "source": [
    "c = {'harsh' , 78 , 89.78}"
   ]
  },
  {
   "cell_type": "code",
   "execution_count": 25,
   "id": "5633aca9-5ee1-4d16-83cd-358424fc1961",
   "metadata": {},
   "outputs": [
    {
     "data": {
      "text/plain": [
       "set"
      ]
     },
     "execution_count": 25,
     "metadata": {},
     "output_type": "execute_result"
    }
   ],
   "source": [
    "type(c)"
   ]
  },
  {
   "cell_type": "code",
   "execution_count": null,
   "id": "efa9fb84-06c5-4b1f-9f6e-2eb986198f8e",
   "metadata": {},
   "outputs": [],
   "source": []
  },
  {
   "cell_type": "code",
   "execution_count": 26,
   "id": "a3a5790b-5acc-4dfb-bb9d-b94ca921155a",
   "metadata": {},
   "outputs": [],
   "source": [
    "my_list = [ 1,2,3,4,5 ]"
   ]
  },
  {
   "cell_type": "code",
   "execution_count": 28,
   "id": "4cdc7010-efe7-48c3-8444-2998ec8dd97f",
   "metadata": {},
   "outputs": [],
   "source": [
    "sub_list = my_list[1:3]"
   ]
  },
  {
   "cell_type": "code",
   "execution_count": 29,
   "id": "28c4f929-a0ef-4389-9041-f61b0dcd0478",
   "metadata": {},
   "outputs": [
    {
     "name": "stdout",
     "output_type": "stream",
     "text": [
      "[2, 3]\n"
     ]
    }
   ],
   "source": [
    "print(sub_list)"
   ]
  },
  {
   "cell_type": "code",
   "execution_count": null,
   "id": "3a72cb10-8d0d-4d36-ae46-a2aa7069799f",
   "metadata": {},
   "outputs": [],
   "source": []
  },
  {
   "cell_type": "code",
   "execution_count": 30,
   "id": "00c4862a-61b8-4145-8d87-95427c7c3233",
   "metadata": {},
   "outputs": [],
   "source": [
    "a = 5 + 6j"
   ]
  },
  {
   "cell_type": "code",
   "execution_count": 31,
   "id": "93f7498e-be7d-48f6-b3f9-7a0edfe55619",
   "metadata": {},
   "outputs": [
    {
     "data": {
      "text/plain": [
       "(5+6j)"
      ]
     },
     "execution_count": 31,
     "metadata": {},
     "output_type": "execute_result"
    }
   ],
   "source": [
    "a"
   ]
  },
  {
   "cell_type": "code",
   "execution_count": 32,
   "id": "bde54bf5-f221-4710-af14-6c125095a45e",
   "metadata": {},
   "outputs": [
    {
     "data": {
      "text/plain": [
       "complex"
      ]
     },
     "execution_count": 32,
     "metadata": {},
     "output_type": "execute_result"
    }
   ],
   "source": [
    "type(a)"
   ]
  },
  {
   "cell_type": "code",
   "execution_count": null,
   "id": "31fc56e5-9823-4130-bf19-129e41a5f7fc",
   "metadata": {},
   "outputs": [],
   "source": []
  },
  {
   "cell_type": "code",
   "execution_count": 33,
   "id": "8bff7de1-ecc4-4aed-9a8a-55eaa798c50f",
   "metadata": {},
   "outputs": [],
   "source": [
    "age =25"
   ]
  },
  {
   "cell_type": "code",
   "execution_count": 38,
   "id": "2123decf-8ff3-4017-9874-0589773aad59",
   "metadata": {},
   "outputs": [
    {
     "data": {
      "text/plain": [
       "25"
      ]
     },
     "execution_count": 38,
     "metadata": {},
     "output_type": "execute_result"
    }
   ],
   "source": [
    "age"
   ]
  },
  {
   "cell_type": "code",
   "execution_count": null,
   "id": "45c5fe99-1e41-4998-a1f8-08359aede5cc",
   "metadata": {},
   "outputs": [],
   "source": []
  },
  {
   "cell_type": "code",
   "execution_count": 39,
   "id": "36bea685-47d0-4363-9e88-6b92ceb91b94",
   "metadata": {},
   "outputs": [],
   "source": [
    "price = 9.99"
   ]
  },
  {
   "cell_type": "code",
   "execution_count": 40,
   "id": "eb73ca78-336c-445d-afb3-7816fdef587e",
   "metadata": {},
   "outputs": [
    {
     "data": {
      "text/plain": [
       "float"
      ]
     },
     "execution_count": 40,
     "metadata": {},
     "output_type": "execute_result"
    }
   ],
   "source": [
    "type(price)"
   ]
  },
  {
   "cell_type": "code",
   "execution_count": null,
   "id": "1a1757ae-3ccf-4556-b9f9-089334ac4876",
   "metadata": {},
   "outputs": [],
   "source": []
  },
  {
   "cell_type": "code",
   "execution_count": 41,
   "id": "67bfe7e1-05cf-4806-b3a5-dd2b8583eb46",
   "metadata": {},
   "outputs": [],
   "source": [
    "name = \"Harsh Vadher\""
   ]
  },
  {
   "cell_type": "code",
   "execution_count": 42,
   "id": "9890aee7-5d04-4b22-93b8-ee9b7a3ed670",
   "metadata": {},
   "outputs": [
    {
     "data": {
      "text/plain": [
       "'Harsh Vadher'"
      ]
     },
     "execution_count": 42,
     "metadata": {},
     "output_type": "execute_result"
    }
   ],
   "source": [
    "name "
   ]
  },
  {
   "cell_type": "code",
   "execution_count": null,
   "id": "0b5aab64-c5cf-43e9-83e6-7dd2a3de30b1",
   "metadata": {},
   "outputs": [],
   "source": []
  },
  {
   "cell_type": "code",
   "execution_count": 44,
   "id": "268a2d41-d769-4870-8a5e-53d79277fd8d",
   "metadata": {},
   "outputs": [],
   "source": [
    "code = \"Hello world!\""
   ]
  },
  {
   "cell_type": "code",
   "execution_count": 47,
   "id": "bd3207b3-4eab-4a75-b2f8-e9e40efb6a57",
   "metadata": {},
   "outputs": [],
   "source": [
    "sub_string= code[6:12]"
   ]
  },
  {
   "cell_type": "code",
   "execution_count": 48,
   "id": "bda17791-0417-4fad-9d78-cd5ae0d6f490",
   "metadata": {},
   "outputs": [
    {
     "name": "stdout",
     "output_type": "stream",
     "text": [
      "world!\n"
     ]
    }
   ],
   "source": [
    "print(sub_string)"
   ]
  },
  {
   "cell_type": "code",
   "execution_count": null,
   "id": "b093cd11-af0b-4b0a-bce5-1be15baa777a",
   "metadata": {},
   "outputs": [],
   "source": []
  },
  {
   "cell_type": "code",
   "execution_count": 50,
   "id": "6a79d524-c4c5-48bc-8767-53aa8d4080b1",
   "metadata": {},
   "outputs": [],
   "source": [
    "is_student = True"
   ]
  },
  {
   "cell_type": "code",
   "execution_count": 51,
   "id": "2beeb222-eb28-4ed0-b1ab-7f8392d3f9e5",
   "metadata": {},
   "outputs": [
    {
     "data": {
      "text/plain": [
       "True"
      ]
     },
     "execution_count": 51,
     "metadata": {},
     "output_type": "execute_result"
    }
   ],
   "source": [
    "is_student"
   ]
  },
  {
   "cell_type": "code",
   "execution_count": 52,
   "id": "394b4993-99a9-4836-986f-f8656a8b0d18",
   "metadata": {},
   "outputs": [],
   "source": [
    "is_student= False"
   ]
  },
  {
   "cell_type": "code",
   "execution_count": 53,
   "id": "cf4fd918-7fb5-4607-87c3-21008bf80dee",
   "metadata": {},
   "outputs": [
    {
     "data": {
      "text/plain": [
       "False"
      ]
     },
     "execution_count": 53,
     "metadata": {},
     "output_type": "execute_result"
    }
   ],
   "source": [
    "    is_student"
   ]
  },
  {
   "cell_type": "code",
   "execution_count": null,
   "id": "d547bd54-e48a-4c2f-9705-0098b0f151e7",
   "metadata": {},
   "outputs": [],
   "source": []
  }
 ],
 "metadata": {
  "kernelspec": {
   "display_name": "Python 3 (ipykernel)",
   "language": "python",
   "name": "python3"
  },
  "language_info": {
   "codemirror_mode": {
    "name": "ipython",
    "version": 3
   },
   "file_extension": ".py",
   "mimetype": "text/x-python",
   "name": "python",
   "nbconvert_exporter": "python",
   "pygments_lexer": "ipython3",
   "version": "3.10.8"
  }
 },
 "nbformat": 4,
 "nbformat_minor": 5
}
